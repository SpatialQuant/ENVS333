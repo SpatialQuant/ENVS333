{
 "cells": [
  {
   "cell_type": "markdown",
   "metadata": {},
   "source": [
    "<p style=\"text-align: center;\">\n",
    " <font size=\"6\"> \n",
    "COurse Name <br>\n",
    " </font>\n",
    " <font size=\"3\">\n",
    "your name<br>\n",
    "Department of whatever, Framingham State University<br>\n",
    "date\n",
    " </font>\n",
    "</p>"
   ]
  },
  {
   "cell_type": "markdown",
   "metadata": {},
   "source": [
    "# 0. Introduction \n",
    "## 0.1 Warm-ups \n",
    "Mr. Kurtz was my elementary school gym teacher. He warned us, every Monday, Wednesday and Friday, to warm up before we started exercising. You should, too. Think of this problem set as a numerical warm-up. \n",
    "\n",
    "## 0.2 Organization of your answer set \n",
    "Note that each question has a number (1, 2, 3...), a sub-number, and (often) a sub-sub number. You should give these numbers as headers to your answers. This allows me to grade your answers accurately. **Hey, did you read that?** Every question, sub-question, and sub-sub-question gets its own answer. Recall that I hand out **Problem Sets**. You submit **Answer Sets**. If I have to look around your solutions to find the answers, you are missing the point. Make your answers clear, thoughtful, and full.  \n",
    "## 0.3 Deliverables \n",
    "Unless I state otherwise, all problem sets must be submitted as Jupyter Notebooks. Please assemble all your answers into one notebook, and submit the file via BlackBoard. The file name format is Lastname_Firstinitial_PS_n. So if your name is Indy Jones, and you are submitting your answers to PS 3, the file name is \"Jones_I_PS2\". On the rare occasion where work done “by hand” is needed, you can use copier on campus to convert your work into pdfs."
   ]
  },
  {
   "cell_type": "markdown",
   "metadata": {},
   "source": [
    "# 1: How many atoms on Earth? \n",
    "This exercise leads to one way of answering the question “How many atoms are there on Earth?” How would you start answering this question? Sometimes, a more tractable question leads to some insight. For example, the average mass of living humans is around 64 kg<sup>1</sup>. You learned in CHEM 107 the crucial relationship between mass, moles and number: \n",
    "$$n = \\frac{mass\\,(g)}{atomic\\, weight\\, (g/mol)}\\tag{1}$$ \n",
    "\n",
    "$$N = n \\cdot A_n\\tag{2}$$\n",
    "\n",
    "Where *n* is the number of moles, *mass* is the mass of a system in grams, the average *atomic weight* of the system is given in amu, *N* is the number of atoms, and $A_n= 6.023x10^{23}$ atoms/mole. As it happens, the average atomic weight of the human body is about that of O = 16 amu.\n",
    "<img src=\"elements.png\">\n"
   ]
  },
  {
   "cell_type": "markdown",
   "metadata": {},
   "source": [
    "This problem can be solved in the following way:\n",
    "$$n = \\frac{64\\times10^3\\,g}{16\\, (g/mol)}\\tag{3}$$\n",
    "\n",
    "$$n = \\frac{\\color{red} {16} \\cdot 4\\times10^3\\,g}{\\color{red}{16}\\, (g/mol)}\\tag{4}$$\n",
    "\n",
    "$$ n = 4 \\times 10^3 mol\\tag{5}$$\n",
    "\n",
    "$$N = n \\cdot A_n\\tag{6}$$\n",
    "\n",
    "$$N = 4 \\times 10^3 mol \\cdot 6.023x10^{23} \\, atoms/mol \\tag{7}$$\n",
    "\n",
    "$$N = 24 \\times 10^{26} \\,atoms\\tag{8}$$"
   ]
  },
  {
   "cell_type": "markdown",
   "metadata": {},
   "source": [
    "Note the nice little trick there in Equation (4): I factored **64** into <font color=\"red\"> **16** </font>·**4** so I could cancel common factors in the numerator and denominator. While this may seem pointless, learning to quickly evaluate order of magnitude values from a calculation is an important (and learnable) skill.\n",
    "\n",
    "In **Jupyter Notebooks**, you can also solve the same problem using a **python coding block**:"
   ]
  },
  {
   "cell_type": "code",
   "execution_count": 1,
   "metadata": {},
   "outputs": [
    {
     "name": "stdout",
     "output_type": "stream",
     "text": [
      "2.4091999999999998e+27\n"
     ]
    }
   ],
   "source": [
    "average_mass_of_human_body_g = 64*10**3\n",
    "average_atomic_weight_of_human_body_amu = 16\n",
    "avegadros_number =  6.023*10**23\n",
    "\n",
    "number_of_moles = average_mass_of_human_body_g / average_atomic_weight_of_human_body_amu\n",
    "number_of_atoms = number_of_moles * avegadros_number\n",
    "print(number_of_atoms)"
   ]
  },
  {
   "cell_type": "markdown",
   "metadata": {},
   "source": [
    "### **Wait!!!**\n",
    "That answer is **WAY** too precise and doesn't even have units!  \n",
    "That means it's **TOTALLY** meaningless and **TOTALLY** wrong!!\n",
    "\n",
    "So, computers can be useful at calculating stuff, but **YOU** still have to do the thinking.  \n",
    "\n",
    "In this case, that means:\n",
    "* Keeping track of units\n",
    "* Identifying the correct number of significant figures\n",
    "* Reporting the answer in a clear and meaningful way.\n",
    "\n",
    "**Hmm...** Does that mean we can be smarter than computers?  \n",
    "(This sounds like a job for critical thinking and reflection) \n",
    "\n",
    "In any case, here is a better answer:"
   ]
  },
  {
   "cell_type": "code",
   "execution_count": 2,
   "metadata": {},
   "outputs": [
    {
     "name": "stdout",
     "output_type": "stream",
     "text": [
      "The average number of atoms in a human body is 2.4e+27 atoms.\n"
     ]
    }
   ],
   "source": [
    "average_mass_of_human_body_g = 64*10**3\n",
    "average_atomic_weight_of_human_body_amu = 16\n",
    "avegadros_number =  6.023*10**23\n",
    "\n",
    "number_of_moles = average_mass_of_human_body_g / average_atomic_weight_of_human_body_amu\n",
    "number_of_atoms = number_of_moles * avegadros_number\n",
    "rounded_number_of_atoms_as_string = '{:0.1e}'.format(number_of_atoms)\n",
    "print(\"The average number of atoms in a human body is \" + rounded_number_of_atoms_as_string +\" atoms.\")"
   ]
  }
 ],
 "metadata": {
  "kernelspec": {
   "display_name": "Python 3",
   "language": "python",
   "name": "python3"
  },
  "language_info": {
   "codemirror_mode": {
    "name": "ipython",
    "version": 3
   },
   "file_extension": ".py",
   "mimetype": "text/x-python",
   "name": "python",
   "nbconvert_exporter": "python",
   "pygments_lexer": "ipython3",
   "version": "3.7.1"
  }
 },
 "nbformat": 4,
 "nbformat_minor": 2
}
