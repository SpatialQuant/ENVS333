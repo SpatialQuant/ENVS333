{
 "cells": [
  {
   "cell_type": "code",
   "execution_count": null,
   "metadata": {},
   "outputs": [],
   "source": [
    "import requests\n",
    "import cv2\n",
    "import os\n",
    "from imutils import paths"
   ]
  },
  {
   "cell_type": "code",
   "execution_count": null,
   "metadata": {},
   "outputs": [],
   "source": [
    "os.getcwd()"
   ]
  },
  {
   "cell_type": "code",
   "execution_count": null,
   "metadata": {},
   "outputs": [],
   "source": [
    "os.chdir('C:\\\\Users\\\\Laptop\\\\Downloads\\\\')  #Change Directory"
   ]
  },
  {
   "cell_type": "code",
   "execution_count": null,
   "metadata": {},
   "outputs": [],
   "source": [
    "alligator = 'imagesalligator'\n",
    " = ''\n",
    "\n",
    "\n",
    "url_path = open('download').read().strip().split('\\n')\n",
    "total = 0\n",
    "\n",
    "if os.path.exists('images'):\n",
    "    os.mkdir(elephant)\n",
    "image_path = elephant\n",
    " \n",
    "for url in url_path:\n",
    "    try:\n",
    "        req = requests.get(url, timeout=60)\n",
    " \n",
    "        file_path = os.path.sep.join([image_path, '{}.jpg'.format(\n",
    "            str(total).zfill(6))]\n",
    "        )\n",
    "        file = open(file_path, 'wb')\n",
    "        file.write(req.content)\n",
    "        file.close()\n",
    " \n",
    "        print('Downloaded {}'.format(file_path))\n",
    "        total += 1\n",
    " \n",
    "    except:\n",
    "        print('Could not download {}. Downloading next file'.format(file_path))"
   ]
  },
  {
   "cell_type": "code",
   "execution_count": null,
   "metadata": {},
   "outputs": [],
   "source": [
    "for imagePath in paths.list_images(elephant):\n",
    "    delete_image = False\n",
    " \n",
    "    try:\n",
    "        image = cv2.imread(imagePath)\n",
    " \n",
    "        if image is None:\n",
    "            delete_image = True\n",
    " \n",
    "    # if OpenCV cannot load the image\n",
    "    except:\n",
    "        delete_image = True\n",
    " \n",
    "    if delete_image:\n",
    "        print('Deleting {}'.format(imagePath))\n",
    "        os.remove(imagePath)\n",
    " "
   ]
  },
  {
   "cell_type": "code",
   "execution_count": null,
   "metadata": {},
   "outputs": [],
   "source": [
    "for imagePath in paths.list_images(elephant):\n",
    "    image = cv2.imread(imagePath)\n",
    "    print('Original Dimensions : ',image.shape)\n",
    "    path = 'C:/Users/Laptop/DroneCourse/ENVS333/DeepLearn/final/data/train/elephant/'\n",
    "    width = 150\n",
    "    height = 150\n",
    "    dim = (width, height)\n",
    "    # resize image\n",
    "    resized = cv2.resize(image, dim, interpolation = cv2.INTER_AREA)\n",
    "    print('Resized Dimensions : ',resized.shape)\n",
    "    print(imagePath[-10:])\n",
    "    cv2.imwrite(os.path.join(path ,'Eimage_{}'.format(imagePath[-10:]) ), resized)\n",
    "    cv2.waitKey(0)\n",
    " "
   ]
  }
 ],
 "metadata": {
  "kernelspec": {
   "display_name": "Python 3",
   "language": "python",
   "name": "python3"
  },
  "language_info": {
   "codemirror_mode": {
    "name": "ipython",
    "version": 3
   },
   "file_extension": ".py",
   "mimetype": "text/x-python",
   "name": "python",
   "nbconvert_exporter": "python",
   "pygments_lexer": "ipython3",
   "version": "3.7.7"
  }
 },
 "nbformat": 4,
 "nbformat_minor": 4
}
