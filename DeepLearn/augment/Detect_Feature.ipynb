{
 "cells": [
  {
   "cell_type": "code",
   "execution_count": 28,
   "metadata": {},
   "outputs": [
    {
     "data": {
      "text/plain": [
       "'C:\\\\Users\\\\Laptop\\\\DroneCourse\\\\ENVS333\\\\DeepLearn\\\\augment\\\\gators'"
      ]
     },
     "execution_count": 28,
     "metadata": {},
     "output_type": "execute_result"
    }
   ],
   "source": [
    "import os\n",
    "os.getcwd()  # Get Working Directory"
   ]
  },
  {
   "cell_type": "code",
   "execution_count": 29,
   "metadata": {},
   "outputs": [],
   "source": [
    "os.chdir('C:\\\\Users\\\\Laptop\\\\DroneCourse\\\\ENVS333\\\\DeepLearn\\\\augment\\gators\\\\')  #Change Directory"
   ]
  },
  {
   "cell_type": "code",
   "execution_count": 30,
   "metadata": {},
   "outputs": [
    {
     "data": {
      "text/plain": [
       "'C:\\\\Users\\\\Laptop\\\\DroneCourse\\\\ENVS333\\\\DeepLearn\\\\augment\\\\gators'"
      ]
     },
     "execution_count": 30,
     "metadata": {},
     "output_type": "execute_result"
    }
   ],
   "source": [
    "os.getcwd()"
   ]
  },
  {
   "cell_type": "code",
   "execution_count": 35,
   "metadata": {},
   "outputs": [],
   "source": [
    "from PIL import Image\n",
    "\n",
    "infile = 'nhgator.jpg'\n",
    "\n",
    "#set crop windowsize in pixels\n",
    "chopsize = 60\n",
    "\n",
    "img = Image.open(infile)\n",
    "width, height = img.size\n",
    "\n",
    "# Save Chops of original image\n",
    "for x0 in range(0, width, chopsize):\n",
    "   for y0 in range(0, height, chopsize):\n",
    "      box = (x0, y0,\n",
    "             x0+chopsize if x0+chopsize <  width else  width - 1,\n",
    "             y0+chopsize if y0+chopsize < height else height - 1)\n",
    "      #print('%s %s' % (infile, box))\n",
    "      img.crop(box).save('%s.x%03d.y%03d.jpg' % (infile.replace('.jpg',''), x0, y0))"
   ]
  },
  {
   "cell_type": "code",
   "execution_count": 37,
   "metadata": {},
   "outputs": [],
   "source": [
    "import glob\n",
    "from skimage import io\n",
    "import numpy as np\n",
    "from skimage.color import rgb2gray\n",
    "from skimage.io import imsave, imread\n",
    "from skimage import img_as_ubyte\n",
    "\n",
    "for image in glob.glob(\"*.jpg\"):\n",
    "    npimage = io.imread(image)\n",
    "    grayscale = rgb2gray(npimage)\n",
    "    average = np.mean(grayscale)\n",
    "    smallest = np.amin(grayscale)\n",
    "    biggest = np.amax(grayscale)\n",
    "    range1 = biggest-smallest\n",
    "    #print(\"The range for {} is: {}\".format(image, range1))\n",
    "    if range1 > 0.4:\n",
    "        ramped=(grayscale-smallest)/range1\n",
    "        imsave(\"C:\\\\Users\\\\Laptop\\\\DroneCourse\\\\ENVS333\\\\DeepLearn\\\\augment\\gators\\\\features\\\\img_{}.png\".format(image), img_as_ubyte(ramped))"
   ]
  },
  {
   "cell_type": "code",
   "execution_count": null,
   "metadata": {},
   "outputs": [],
   "source": []
  }
 ],
 "metadata": {
  "kernelspec": {
   "display_name": "Python 3",
   "language": "python",
   "name": "python3"
  },
  "language_info": {
   "codemirror_mode": {
    "name": "ipython",
    "version": 3
   },
   "file_extension": ".py",
   "mimetype": "text/x-python",
   "name": "python",
   "nbconvert_exporter": "python",
   "pygments_lexer": "ipython3",
   "version": "3.7.7"
  }
 },
 "nbformat": 4,
 "nbformat_minor": 4
}
